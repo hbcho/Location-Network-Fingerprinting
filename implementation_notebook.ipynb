{
 "cells": [
  {
   "cell_type": "code",
   "execution_count": 3,
   "metadata": {},
   "outputs": [],
   "source": [
    "def Function(dataframe, int_or_float, samplesize, col1_name, col2_name, magicnumber, variable_index, html):\n",
    "    \n",
    "    import pandas as pd\n",
    "    import matplotlib.pyplot as plt\n",
    "    import networkx as nx\n",
    "    import re\n",
    "    \n",
    "    dataframe=pd.read_csv(dataframe, encoding='latin-1')\n",
    "    \n",
    "    def WeightCalculation(nodelist0, nodelist1):\n",
    "        import re\n",
    "        import math\n",
    "        val1=float(re.findall(\"\\d+\", nodelist0)[0])\n",
    "        val2=float(re.findall(\"\\d+\", nodelist1)[0])\n",
    "        val3=float(re.findall(\"\\d+\", nodelist0)[1])\n",
    "        val4=float(re.findall(\"\\d+\", nodelist1)[1])\n",
    "        function= math.sqrt((val1-val2)**2+(val3-val4)**2)\n",
    "        return function\n",
    "    \n",
    "    dataframe = dataframe.sample(samplesize).reset_index()\n",
    "#     c3 = [(int(dataframe[col1_name][i]), int(dataframe[col2_name][i])) for i in range(len(dataframe[col1_name]))]\n",
    "\n",
    "    if int_or_float==0:\n",
    "        c3 = [(int(dataframe[col1_name][i]), int(dataframe[col2_name][i])) for i in range(len(dataframe[col1_name]))]\n",
    "    \n",
    "    if int_or_float==1:\n",
    "        c3 = [(float(dataframe[col1_name][i]), float(dataframe[col2_name][i])) for i in range(len(dataframe[col1_name]))]\n",
    "\n",
    "    \n",
    "    F = nx.Graph()\n",
    "    for i in range(len(c3)):\n",
    "        F.add_node(str(c3[i]), weight=c3.count(c3[i]))\n",
    "\n",
    "    nodelist2=list(F.nodes)\n",
    "\n",
    "    MAGICNUMBER=magicnumber\n",
    "\n",
    "    F = nx.Graph()\n",
    "    for i in nodelist2:\n",
    "        for j in nodelist2:\n",
    "            try:\n",
    "                w=WeightCalculation(i,j)\n",
    "                if w<MAGICNUMBER:\n",
    "                    F.add_edge(i,j, weight=w)\n",
    "            except:\n",
    "                continue\n",
    "    nx.draw_networkx(F, with_labels=False, node_size=10, font_size=8)\n",
    "\n",
    "    giant = max(nx.connected_component_subgraphs(F), key=len)\n",
    "    center_nodes = nx.center(giant)\n",
    "    print(\"+++++++++++++++++++CENTRE NODES+++++++++++++++++\")\n",
    "    print(center_nodes)\n",
    "    print(len(center_nodes))\n",
    "\n",
    "    bridges=list(nx.bridges(F))\n",
    "    print(\"+++++++++++++++++++BRIDGES+++++++++++++++++\")\n",
    "    print(bridges, len(bridges))\n",
    "\n",
    "\n",
    "    long=[]\n",
    "    lat=[]\n",
    "    \n",
    "    variable = [center_nodes, bridges]\n",
    "    \n",
    "    if int_or_float==0:\n",
    "        for bridge in variable[variable_index]:\n",
    "            for subbridge in bridge:\n",
    "                long.append(int(re.findall(\"[+-]?\\d+\", subbridge)[1]))\n",
    "                lat.append(int(re.findall(\"[+-]?\\d+\", subbridge)[0]))\n",
    "\n",
    "    if int_or_float==1:\n",
    "        for bridge in variable[variable_index]:\n",
    "            for subbridge in bridge:\n",
    "                long.append(float(re.findall(\"[+-]?\\d+\\.\\d+\", subbridge)[1]))\n",
    "                lat.append(float(re.findall(\"[+-]?\\d+\\.\\d+\", subbridge)[0]))\n",
    "\n",
    "    import gmplot \n",
    "\n",
    "    latitude_list = long\n",
    "    longitude_list = lat\n",
    "\n",
    "    gmap3 = gmplot.GoogleMapPlotter(33, -101, 5) \n",
    "\n",
    "    # scatter method of map object  \n",
    "    # scatter points on the google map \n",
    "    gmap3.scatter( latitude_list, longitude_list, '# FF0000', \n",
    "                                  size = 40, marker = False ) \n",
    "\n",
    "    # Plot method Draw a line in \n",
    "    # between given coordinates \n",
    "    gmap3.plot(latitude_list, longitude_list,  \n",
    "               'cornflowerblue', edge_width = 2.5) \n",
    "\n",
    "    gmap3.heatmap(latitude_list, longitude_list)\n",
    "\n",
    "    # Pass the absolute path \n",
    "    gmap3.draw(html) "
   ]
  },
  {
   "cell_type": "code",
   "execution_count": 13,
   "metadata": {},
   "outputs": [
    {
     "name": "stdout",
     "output_type": "stream",
     "text": [
      "+++++++++++++++++++CENTRE NODES+++++++++++++++++\n",
      "['(-81.00718, 34.959379999999996)', '(-81.00717, 35.503840000000004)']\n",
      "2\n",
      "+++++++++++++++++++BRIDGES+++++++++++++++++\n",
      "[('(-81.00718, 34.959379999999996)', '(-81.00717, 35.503840000000004)'), ('(-80.05805, 26.85432)', '(-79.05805, 35.96354)'), ('(-76.31096, 37.051390000000005)', '(-77.31097, 38.58133)')] 3\n"
     ]
    },
    {
     "data": {
      "image/png": "[encoded data removed]",
      "text/plain": [
       "<Figure size 432x288 with 1 Axes>"
      ]
     },
     "metadata": {},
     "output_type": "display_data"
    }
   ],
   "source": [
    "Function('test_node_data.csv', 1, 900, \"F11\", \"F21\", 2, 1, \"success_map_testing.html\")"
   ]
  },
  {
   "cell_type": "code",
   "execution_count": 15,
   "metadata": {},
   "outputs": [
    {
     "data": {
      "text/html": [
       "\n",
       "        <iframe\n",
       "            width=\"700\"\n",
       "            height=\"350\"\n",
       "            src=\"success_map_testing.html\"\n",
       "            frameborder=\"0\"\n",
       "            allowfullscreen\n",
       "        ></iframe>\n",
       "        "
      ],
      "text/plain": [
       "<IPython.lib.display.IFrame at 0x2118647ddd8>"
      ]
     },
     "execution_count": 15,
     "metadata": {},
     "output_type": "execute_result"
    }
   ],
   "source": [
    "from IPython.display import IFrame\n",
    "IFrame(\"success_map_testing.html\", width=700, height=350)"
   ]
  }
 ],
 "metadata": {
  "kernelspec": {
   "display_name": "DataX Python3.6",
   "language": "python",
   "name": "python3"
  },
  "language_info": {
   "codemirror_mode": {
    "name": "ipython",
    "version": 3
   },
   "file_extension": ".py",
   "mimetype": "text/x-python",
   "name": "python",
   "nbconvert_exporter": "python",
   "pygments_lexer": "ipython3",
   "version": "3.6.6"
  }
 },
 "nbformat": 4,
 "nbformat_minor": 2
}
